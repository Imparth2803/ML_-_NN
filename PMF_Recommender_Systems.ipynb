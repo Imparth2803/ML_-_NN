{
  "nbformat": 4,
  "nbformat_minor": 0,
  "metadata": {
    "colab": {
      "name": "PMF_Recommender_Systems.ipynb",
      "provenance": [],
      "collapsed_sections": [],
      "toc_visible": true
    },
    "kernelspec": {
      "name": "python3",
      "display_name": "Python 3"
    }
  },
  "cells": [
    {
      "cell_type": "markdown",
      "metadata": {
        "id": "sE0imG0HLDgf",
        "colab_type": "text"
      },
      "source": [
        "# PMF for Recommender Systems\n",
        "\n",
        "This is an implementation for Probabilistic Matrix Factorisation. We have made use of a subset of the IMDB dataset for training purposes."
      ]
    },
    {
      "cell_type": "code",
      "metadata": {
        "id": "8-65Kyq2Kv8R",
        "colab_type": "code",
        "colab": {}
      },
      "source": [
        "import matplotlib.pyplot as plt\n",
        "import numpy as np\n",
        "import pandas as pd\n",
        "\n",
        "from sklearn.metrics import mean_squared_error"
      ],
      "execution_count": 0,
      "outputs": []
    },
    {
      "cell_type": "markdown",
      "metadata": {
        "id": "pDzg9SMk_iW8",
        "colab_type": "text"
      },
      "source": [
        "Let's now download our dataset. We will also unzip it for further use."
      ]
    },
    {
      "cell_type": "code",
      "metadata": {
        "id": "iUB7uFWdQzF7",
        "colab_type": "code",
        "outputId": "32574479-ff4f-4e26-9fc0-305b20e19fd5",
        "colab": {
          "base_uri": "https://localhost:8080/",
          "height": 334
        }
      },
      "source": [
        "!wget http://files.grouplens.org/datasets/movielens/ml-latest-small.zip\n",
        "!unzip ml-latest-small.zip"
      ],
      "execution_count": 0,
      "outputs": [
        {
          "output_type": "stream",
          "text": [
            "--2020-05-05 16:44:24--  http://files.grouplens.org/datasets/movielens/ml-latest-small.zip\n",
            "Resolving files.grouplens.org (files.grouplens.org)... 128.101.65.152\n",
            "Connecting to files.grouplens.org (files.grouplens.org)|128.101.65.152|:80... connected.\n",
            "HTTP request sent, awaiting response... 200 OK\n",
            "Length: 978202 (955K) [application/zip]\n",
            "Saving to: ‘ml-latest-small.zip’\n",
            "\n",
            "ml-latest-small.zip 100%[===================>] 955.28K   974KB/s    in 1.0s    \n",
            "\n",
            "2020-05-05 16:44:25 (974 KB/s) - ‘ml-latest-small.zip’ saved [978202/978202]\n",
            "\n",
            "Archive:  ml-latest-small.zip\n",
            "   creating: ml-latest-small/\n",
            "  inflating: ml-latest-small/links.csv  \n",
            "  inflating: ml-latest-small/tags.csv  \n",
            "  inflating: ml-latest-small/ratings.csv  \n",
            "  inflating: ml-latest-small/README.txt  \n",
            "  inflating: ml-latest-small/movies.csv  \n"
          ],
          "name": "stdout"
        }
      ]
    },
    {
      "cell_type": "markdown",
      "metadata": {
        "id": "PCubprYO_zIS",
        "colab_type": "text"
      },
      "source": [
        "Let's take a look at part of the ratings file to get an idea of the columns available."
      ]
    },
    {
      "cell_type": "code",
      "metadata": {
        "id": "dbWjyrOEC5G1",
        "colab_type": "code",
        "outputId": "25cce28a-4357-4c26-f687-dd49d5f4fa9b",
        "colab": {
          "base_uri": "https://localhost:8080/",
          "height": 195
        }
      },
      "source": [
        "df = pd.read_csv('ml-latest-small/ratings.csv')\n",
        "df.head()"
      ],
      "execution_count": 0,
      "outputs": [
        {
          "output_type": "execute_result",
          "data": {
            "text/html": [
              "<div>\n",
              "<style scoped>\n",
              "    .dataframe tbody tr th:only-of-type {\n",
              "        vertical-align: middle;\n",
              "    }\n",
              "\n",
              "    .dataframe tbody tr th {\n",
              "        vertical-align: top;\n",
              "    }\n",
              "\n",
              "    .dataframe thead th {\n",
              "        text-align: right;\n",
              "    }\n",
              "</style>\n",
              "<table border=\"1\" class=\"dataframe\">\n",
              "  <thead>\n",
              "    <tr style=\"text-align: right;\">\n",
              "      <th></th>\n",
              "      <th>userId</th>\n",
              "      <th>movieId</th>\n",
              "      <th>rating</th>\n",
              "      <th>timestamp</th>\n",
              "    </tr>\n",
              "  </thead>\n",
              "  <tbody>\n",
              "    <tr>\n",
              "      <th>0</th>\n",
              "      <td>1</td>\n",
              "      <td>1</td>\n",
              "      <td>4.0</td>\n",
              "      <td>964982703</td>\n",
              "    </tr>\n",
              "    <tr>\n",
              "      <th>1</th>\n",
              "      <td>1</td>\n",
              "      <td>3</td>\n",
              "      <td>4.0</td>\n",
              "      <td>964981247</td>\n",
              "    </tr>\n",
              "    <tr>\n",
              "      <th>2</th>\n",
              "      <td>1</td>\n",
              "      <td>6</td>\n",
              "      <td>4.0</td>\n",
              "      <td>964982224</td>\n",
              "    </tr>\n",
              "    <tr>\n",
              "      <th>3</th>\n",
              "      <td>1</td>\n",
              "      <td>47</td>\n",
              "      <td>5.0</td>\n",
              "      <td>964983815</td>\n",
              "    </tr>\n",
              "    <tr>\n",
              "      <th>4</th>\n",
              "      <td>1</td>\n",
              "      <td>50</td>\n",
              "      <td>5.0</td>\n",
              "      <td>964982931</td>\n",
              "    </tr>\n",
              "  </tbody>\n",
              "</table>\n",
              "</div>"
            ],
            "text/plain": [
              "   userId  movieId  rating  timestamp\n",
              "0       1        1     4.0  964982703\n",
              "1       1        3     4.0  964981247\n",
              "2       1        6     4.0  964982224\n",
              "3       1       47     5.0  964983815\n",
              "4       1       50     5.0  964982931"
            ]
          },
          "metadata": {
            "tags": []
          },
          "execution_count": 3
        }
      ]
    },
    {
      "cell_type": "markdown",
      "metadata": {
        "id": "XfASJGv4AWHY",
        "colab_type": "text"
      },
      "source": [
        "As part of the dataset, there is also another file that contains movie information, which includes the movie id, the title, the genre, among others. We can INNER JOIN the ratings and movies datasets to gain access to all data we will need for our analysis."
      ]
    },
    {
      "cell_type": "code",
      "metadata": {
        "id": "RQqW0Mzh_-Vd",
        "colab_type": "code",
        "outputId": "9a0cb934-2540-47db-8da0-5f16f4e927c5",
        "colab": {
          "base_uri": "https://localhost:8080/",
          "height": 195
        }
      },
      "source": [
        "df_movies = pd.read_csv('ml-latest-small/movies.csv')\n",
        "df_join = pd.merge(df_movies, df, how='inner', on='movieId')\n",
        "df_join.head()"
      ],
      "execution_count": 0,
      "outputs": [
        {
          "output_type": "execute_result",
          "data": {
            "text/html": [
              "<div>\n",
              "<style scoped>\n",
              "    .dataframe tbody tr th:only-of-type {\n",
              "        vertical-align: middle;\n",
              "    }\n",
              "\n",
              "    .dataframe tbody tr th {\n",
              "        vertical-align: top;\n",
              "    }\n",
              "\n",
              "    .dataframe thead th {\n",
              "        text-align: right;\n",
              "    }\n",
              "</style>\n",
              "<table border=\"1\" class=\"dataframe\">\n",
              "  <thead>\n",
              "    <tr style=\"text-align: right;\">\n",
              "      <th></th>\n",
              "      <th>movieId</th>\n",
              "      <th>title</th>\n",
              "      <th>genres</th>\n",
              "      <th>userId</th>\n",
              "      <th>rating</th>\n",
              "      <th>timestamp</th>\n",
              "    </tr>\n",
              "  </thead>\n",
              "  <tbody>\n",
              "    <tr>\n",
              "      <th>0</th>\n",
              "      <td>1</td>\n",
              "      <td>Toy Story (1995)</td>\n",
              "      <td>Adventure|Animation|Children|Comedy|Fantasy</td>\n",
              "      <td>1</td>\n",
              "      <td>4.0</td>\n",
              "      <td>964982703</td>\n",
              "    </tr>\n",
              "    <tr>\n",
              "      <th>1</th>\n",
              "      <td>1</td>\n",
              "      <td>Toy Story (1995)</td>\n",
              "      <td>Adventure|Animation|Children|Comedy|Fantasy</td>\n",
              "      <td>5</td>\n",
              "      <td>4.0</td>\n",
              "      <td>847434962</td>\n",
              "    </tr>\n",
              "    <tr>\n",
              "      <th>2</th>\n",
              "      <td>1</td>\n",
              "      <td>Toy Story (1995)</td>\n",
              "      <td>Adventure|Animation|Children|Comedy|Fantasy</td>\n",
              "      <td>7</td>\n",
              "      <td>4.5</td>\n",
              "      <td>1106635946</td>\n",
              "    </tr>\n",
              "    <tr>\n",
              "      <th>3</th>\n",
              "      <td>1</td>\n",
              "      <td>Toy Story (1995)</td>\n",
              "      <td>Adventure|Animation|Children|Comedy|Fantasy</td>\n",
              "      <td>15</td>\n",
              "      <td>2.5</td>\n",
              "      <td>1510577970</td>\n",
              "    </tr>\n",
              "    <tr>\n",
              "      <th>4</th>\n",
              "      <td>1</td>\n",
              "      <td>Toy Story (1995)</td>\n",
              "      <td>Adventure|Animation|Children|Comedy|Fantasy</td>\n",
              "      <td>17</td>\n",
              "      <td>4.5</td>\n",
              "      <td>1305696483</td>\n",
              "    </tr>\n",
              "  </tbody>\n",
              "</table>\n",
              "</div>"
            ],
            "text/plain": [
              "   movieId             title  ... rating   timestamp\n",
              "0        1  Toy Story (1995)  ...    4.0   964982703\n",
              "1        1  Toy Story (1995)  ...    4.0   847434962\n",
              "2        1  Toy Story (1995)  ...    4.5  1106635946\n",
              "3        1  Toy Story (1995)  ...    2.5  1510577970\n",
              "4        1  Toy Story (1995)  ...    4.5  1305696483\n",
              "\n",
              "[5 rows x 6 columns]"
            ]
          },
          "metadata": {
            "tags": []
          },
          "execution_count": 4
        }
      ]
    },
    {
      "cell_type": "markdown",
      "metadata": {
        "id": "STnXs_BhAnsm",
        "colab_type": "text"
      },
      "source": [
        "Let's now prepare our sparse review matrix. For this purpose, we first need to find out how many users and movies we have in our dataset. Additionally, we will set S to 5 dimensions."
      ]
    },
    {
      "cell_type": "code",
      "metadata": {
        "id": "BDoGa6i7OFy_",
        "colab_type": "code",
        "colab": {}
      },
      "source": [
        "def get_ratings_matrix(df, train_size=0.75):\n",
        "    user_to_row = {}\n",
        "    movie_to_column = {}\n",
        "    df_values = df.values\n",
        "    n_dims = 10\n",
        "    parameters = {}\n",
        "    \n",
        "    uniq_users = np.unique(df_values[:, 3])\n",
        "    uniq_movies = np.unique(df_values[:, 0])\n",
        "\n",
        "    for i, user_id in enumerate(uniq_users):\n",
        "        user_to_row[user_id] = i\n",
        "\n",
        "    for j, movie_id in enumerate(uniq_movies):\n",
        "        movie_to_column[movie_id] = j\n",
        "    \n",
        "    n_users = len(uniq_users)\n",
        "    n_movies = len(uniq_movies)\n",
        "    \n",
        "    R = np.zeros((n_users, n_movies))\n",
        "    \n",
        "    df_copy = df.copy()\n",
        "    train_set = df_copy.sample(frac=train_size, random_state=0)\n",
        "    test_set = df_copy.drop(train_set.index)\n",
        "    \n",
        "    for index, row in train_set.iterrows():\n",
        "        i = user_to_row[row.userId]\n",
        "        j = movie_to_column[row.movieId]\n",
        "        R[i, j] = row.rating\n",
        "\n",
        "    return R, train_set, test_set, n_dims, n_users, n_movies, user_to_row, movie_to_column"
      ],
      "execution_count": 0,
      "outputs": []
    },
    {
      "cell_type": "markdown",
      "metadata": {
        "id": "bKIg5iNe5SKn",
        "colab_type": "text"
      },
      "source": [
        "Let's now call this function and retrieve all necessary parameters."
      ]
    },
    {
      "cell_type": "code",
      "metadata": {
        "id": "HBjrbs8VD6_2",
        "colab_type": "code",
        "colab": {}
      },
      "source": [
        "R, train_set, test_set, n_dims, n_users, n_movies, user_to_row, movie_to_column = get_ratings_matrix(df_join, 0.8)\n",
        "parameters = {}"
      ],
      "execution_count": 0,
      "outputs": []
    },
    {
      "cell_type": "markdown",
      "metadata": {
        "id": "2C8nnfseBTOM",
        "colab_type": "text"
      },
      "source": [
        "We will now initialise our parameters. First the $V$ matrix can be initialised randomly using the following distribution:\n",
        "\n",
        "\\begin{equation}\n",
        "\\large\n",
        "V \\sim \\mathcal N\\left(0, \\frac {1} {\\lambda_V}\\right)\n",
        "\\end{equation}\n",
        "\n",
        "Let's remember that:\n",
        "\n",
        "\\begin{equation}\n",
        "\\large\n",
        "U \\in \\mathbb R^{D\\times N}, \\qquad V \\in \\mathbb R^{D\\times M}\n",
        "\\end{equation}\n",
        "\n",
        "Where $N$ is __n_users__, $M$ is __n_movies__ and $D$ is __n_dims__."
      ]
    },
    {
      "cell_type": "code",
      "metadata": {
        "id": "HaM_fnR0Nd_i",
        "colab_type": "code",
        "colab": {}
      },
      "source": [
        "def initialize_parameters(lambda_U, lambda_V):\n",
        "    U = np.zeros((n_dims, n_users), dtype=np.float64)\n",
        "    V = np.random.normal(0.0, 1.0 / lambda_V, (n_dims, n_movies))\n",
        "    \n",
        "    parameters['U'] = U\n",
        "    parameters['V'] = V\n",
        "    parameters['lambda_U'] = lambda_U\n",
        "    parameters['lambda_V'] = lambda_V"
      ],
      "execution_count": 0,
      "outputs": []
    },
    {
      "cell_type": "markdown",
      "metadata": {
        "id": "ntiPL_EnCLe-",
        "colab_type": "text"
      },
      "source": [
        "Let's now implement the function that updates U and V. The elements of both matrices can be updated using the following expressions:\n",
        "\n",
        "\\begin{equation}\n",
        "\\large\n",
        "U_i=\\left[\\left(V_jV_j^T\\right)_{j\\in\\Omega_{U_i}}+\\lambda_UI\\right]^{-1}\\left(R_{ij}V_j^T\\right)_{j\\in\\Omega_{U_i}}\n",
        "\\end{equation}\n",
        "\n",
        "\\begin{equation}\n",
        "\\large\n",
        "V_j=\\left[\\left(U_iU_i^T\\right)_{i\\in\\Omega_{V_j}}+\\lambda_VI\\right]^{-1}\\left(R_{ij}U_i^T\\right)_{i\\in\\Omega_{V_j}}\n",
        "\\end{equation}"
      ]
    },
    {
      "cell_type": "code",
      "metadata": {
        "id": "DjKB4TzFkoJx",
        "colab_type": "code",
        "colab": {}
      },
      "source": [
        "def update_parameters():\n",
        "    U = parameters['U']\n",
        "    V = parameters['V']\n",
        "    lambda_U = parameters['lambda_U']\n",
        "    lambda_V = parameters['lambda_V']\n",
        "    \n",
        "    for i in range(n_users):\n",
        "        V_j = V[:, R[i, :] > 0]\n",
        "        U[:, i] = np.dot(np.linalg.inv(np.dot(V_j, V_j.T) + lambda_U * np.identity(n_dims)), np.dot(R[i, R[i, :] > 0], V_j.T))\n",
        "        \n",
        "    for j in range(n_movies):\n",
        "        U_i = U[:, R[:, j] > 0]\n",
        "        V[:, j] = np.dot(np.linalg.inv(np.dot(U_i, U_i.T) + lambda_V * np.identity(n_dims)), np.dot(R[R[:, j] > 0, j], U_i.T))\n",
        "        \n",
        "    parameters['U'] = U\n",
        "    parameters['V'] = V"
      ],
      "execution_count": 0,
      "outputs": []
    },
    {
      "cell_type": "markdown",
      "metadata": {
        "id": "hQ5in2inJApx",
        "colab_type": "text"
      },
      "source": [
        "Now let's implement the Log-a posteriori:\n",
        "\n",
        "\\begin{equation}\n",
        "\\large\n",
        "L=-\\frac 1 2 \\left(\\sum_{i=1}^N\\sum_{j=1}^M(R_{ij}-U_i^TV_j)_{(i,j) \\in \\Omega_{R_{ij}}}^2+\\lambda_U\\sum_{i=1}^N\\|U_i\\|_{Fro}^2+\\lambda_V\\sum_{j=1}^M\\|V_j\\|_{Fro}^2\\right)\n",
        "\\end{equation}"
      ]
    },
    {
      "cell_type": "code",
      "metadata": {
        "id": "5PUgHUp2MeZI",
        "colab_type": "code",
        "colab": {}
      },
      "source": [
        "def log_a_posteriori():\n",
        "    lambda_U = parameters['lambda_U']\n",
        "    lambda_V = parameters['lambda_V']\n",
        "    U = parameters['U']\n",
        "    V = parameters['V']\n",
        "    \n",
        "    UV = np.dot(U.T, V)\n",
        "    R_UV = (R[R > 0] - UV[R > 0])\n",
        "    \n",
        "    return -0.5 * (np.sum(np.dot(R_UV, R_UV.T)) + lambda_U * np.sum(np.dot(U, U.T)) + lambda_V * np.sum(np.dot(V, V.T)))"
      ],
      "execution_count": 0,
      "outputs": []
    },
    {
      "cell_type": "markdown",
      "metadata": {
        "id": "68fmuPQrPRnU",
        "colab_type": "text"
      },
      "source": [
        "The __predict__ function allows us to predict the rating value given the __user_id__ and the __movie_id__ parameters. The value has been scaled within the range 0-5"
      ]
    },
    {
      "cell_type": "code",
      "metadata": {
        "id": "neTN8ejbQ5dg",
        "colab_type": "code",
        "colab": {}
      },
      "source": [
        "def predict(user_id, movie_id):\n",
        "    U = parameters['U']\n",
        "    V = parameters['V']\n",
        "    \n",
        "    r_ij = U[:, user_to_row[user_id]].T.reshape(1, -1) @ V[:, movie_to_column[movie_id]].reshape(-1, 1)\n",
        "\n",
        "    max_rating = parameters['max_rating']\n",
        "    min_rating = parameters['min_rating']\n",
        "\n",
        "    return 0 if max_rating == min_rating else ((r_ij[0][0] - min_rating) / (max_rating - min_rating)) * 5.0"
      ],
      "execution_count": 0,
      "outputs": []
    },
    {
      "cell_type": "markdown",
      "metadata": {
        "id": "7Rt2ol1j7OJ0",
        "colab_type": "text"
      },
      "source": [
        "The __evaluate__ function will calculate the __RMSE__ of the model given a dataset (train or test)."
      ]
    },
    {
      "cell_type": "code",
      "metadata": {
        "id": "jnNGbogWh6OR",
        "colab_type": "code",
        "colab": {}
      },
      "source": [
        "def evaluate(dataset):\n",
        "    ground_truths = []\n",
        "    predictions = []\n",
        "    \n",
        "    for index, row in dataset.iterrows():\n",
        "        ground_truths.append(row.loc['rating'])\n",
        "        predictions.append(predict(row.loc['userId'], row.loc['movieId']))\n",
        "    \n",
        "    return mean_squared_error(ground_truths, predictions, squared=False)"
      ],
      "execution_count": 0,
      "outputs": []
    },
    {
      "cell_type": "markdown",
      "metadata": {
        "id": "6R1ePeME7qSW",
        "colab_type": "text"
      },
      "source": [
        "For the purposes of scaling, we need the maximum and minimum rating values."
      ]
    },
    {
      "cell_type": "code",
      "metadata": {
        "id": "YNIlELvx0M0W",
        "colab_type": "code",
        "colab": {}
      },
      "source": [
        "def update_max_min_ratings():\n",
        "    U = parameters['U']\n",
        "    V = parameters['V']\n",
        "\n",
        "    R = U.T @ V\n",
        "    min_rating = np.min(R)\n",
        "    max_rating = np.max(R)\n",
        "\n",
        "    parameters['min_rating'] = min_rating\n",
        "    parameters['max_rating'] = max_rating"
      ],
      "execution_count": 0,
      "outputs": []
    },
    {
      "cell_type": "markdown",
      "metadata": {
        "id": "AZGq6J9pDl5O",
        "colab_type": "text"
      },
      "source": [
        "The __train__ function implements the code necessary for training the model as well as recording the __RMSE__ values on the training and testing sets."
      ]
    },
    {
      "cell_type": "code",
      "metadata": {
        "id": "VYwTD_nBNO5F",
        "colab_type": "code",
        "colab": {}
      },
      "source": [
        "def train(n_epochs):\n",
        "    initialize_parameters(0.3, 0.3)\n",
        "    log_aps = []\n",
        "    rmse_train = []\n",
        "    rmse_test = []\n",
        "\n",
        "    update_max_min_ratings()\n",
        "    rmse_train.append(evaluate(train_set))\n",
        "    rmse_test.append(evaluate(test_set))\n",
        "    \n",
        "    for k in range(n_epochs):\n",
        "        update_parameters()\n",
        "        log_ap = log_a_posteriori()\n",
        "        log_aps.append(log_ap)\n",
        "\n",
        "        if (k + 1) % 10 == 0:\n",
        "            update_max_min_ratings()\n",
        "\n",
        "            rmse_train.append(evaluate(train_set))\n",
        "            rmse_test.append(evaluate(test_set))\n",
        "            print('Log p a-posteriori at iteration', k + 1, ':', log_ap)\n",
        "\n",
        "    update_max_min_ratings()\n",
        "\n",
        "    return log_aps, rmse_train, rmse_test"
      ],
      "execution_count": 0,
      "outputs": []
    },
    {
      "cell_type": "markdown",
      "metadata": {
        "id": "SJbozBbQPk9A",
        "colab_type": "text"
      },
      "source": [
        "Let's train our model!"
      ]
    },
    {
      "cell_type": "code",
      "metadata": {
        "id": "XeH5sRNp7eHA",
        "colab_type": "code",
        "outputId": "8e0cb783-9b32-41aa-9a4a-908aac9d613d",
        "colab": {
          "base_uri": "https://localhost:8080/",
          "height": 281
        }
      },
      "source": [
        "log_ps, rmse_train, rmse_test = train(150)"
      ],
      "execution_count": 0,
      "outputs": [
        {
          "output_type": "stream",
          "text": [
            "Log p a-posteriori at iteration 10 : -47315.01695753759\n",
            "Log p a-posteriori at iteration 20 : -26049.43854684034\n",
            "Log p a-posteriori at iteration 30 : -18661.49545924417\n",
            "Log p a-posteriori at iteration 40 : -15071.180100170577\n",
            "Log p a-posteriori at iteration 50 : -13079.762498741024\n",
            "Log p a-posteriori at iteration 60 : -11893.64153224053\n",
            "Log p a-posteriori at iteration 70 : -11160.963307065578\n",
            "Log p a-posteriori at iteration 80 : -10704.998944575167\n",
            "Log p a-posteriori at iteration 90 : -10404.727479137038\n",
            "Log p a-posteriori at iteration 100 : -10201.562115083421\n",
            "Log p a-posteriori at iteration 110 : -10056.94029740754\n",
            "Log p a-posteriori at iteration 120 : -9947.130125510244\n",
            "Log p a-posteriori at iteration 130 : -9861.603527161862\n",
            "Log p a-posteriori at iteration 140 : -9797.336507154727\n",
            "Log p a-posteriori at iteration 150 : -9750.831386678909\n"
          ],
          "name": "stdout"
        }
      ]
    },
    {
      "cell_type": "markdown",
      "metadata": {
        "id": "TKzp4hukECUE",
        "colab_type": "text"
      },
      "source": [
        "Now let's take a look at some graphs"
      ]
    },
    {
      "cell_type": "code",
      "metadata": {
        "id": "yRr_wko07e37",
        "colab_type": "code",
        "outputId": "46313b0b-5d4a-4448-8638-12ef81baf4c2",
        "colab": {
          "base_uri": "https://localhost:8080/"
        }
      },
      "source": [
        "_, (ax1, ax2) = plt.subplots(1, 2, figsize=(20, 10))\n",
        "plt.title('Training results')\n",
        "ax1.plot(np.arange(len(log_ps)), log_ps, label='MAP')\n",
        "ax1.legend()\n",
        "\n",
        "ax2.plot(np.arange(len(rmse_train)), rmse_train, label='RMSE train')\n",
        "ax2.plot(np.arange(len(rmse_test)), rmse_test, label='RMSE test')\n",
        "ax2.legend()\n",
        "\n",
        "plt.show()"
      ],
      "execution_count": 0,
      "outputs": [
        {
          "output_type": "display_data",
          "data": {
            "image/png": "[encoded data removed]",
            "text/plain": [
              "<Figure size 1440x720 with 2 Axes>"
            ]
          },
          "metadata": {
            "tags": [],
            "needs_background": "light"
          }
        }
      ]
    },
    {
      "cell_type": "markdown",
      "metadata": {
        "id": "-nhrZDHvPx1-",
        "colab_type": "text"
      },
      "source": [
        "Let's now evaluate our model on both the training and testing sets."
      ]
    },
    {
      "cell_type": "code",
      "metadata": {
        "id": "L9mKLM7BkuVz",
        "colab_type": "code",
        "outputId": "7884e7ea-0349-4824-cd80-7c4add36f76c",
        "colab": {
          "base_uri": "https://localhost:8080/",
          "height": 52
        }
      },
      "source": [
        "print('RMSE of training set:', evaluate(train_set))\n",
        "print('RMSE of testing set:', evaluate(test_set))"
      ],
      "execution_count": 0,
      "outputs": [
        {
          "output_type": "stream",
          "text": [
            "RMSE of training set: 1.0002025748958006\n",
            "RMSE of testing set: 1.108309473614627\n"
          ],
          "name": "stdout"
        }
      ]
    },
    {
      "cell_type": "markdown",
      "metadata": {
        "id": "JEZtM1UiQUrA",
        "colab_type": "text"
      },
      "source": [
        "Now we will pick a user from the database and look at his/her preferences."
      ]
    },
    {
      "cell_type": "code",
      "metadata": {
        "id": "t-KBJYqbU--g",
        "colab_type": "code",
        "outputId": "5a80faa9-26a8-42d1-ed08-0c75c83635ec",
        "colab": {
          "base_uri": "https://localhost:8080/"
        }
      },
      "source": [
        "user_id = 45\n",
        "df_join[df_join['userId'] == user_id].sort_values(by=['rating'], ascending=False).head(10)"
      ],
      "execution_count": 0,
      "outputs": [
        {
          "output_type": "execute_result",
          "data": {
            "text/html": [
              "<div>\n",
              "<style scoped>\n",
              "    .dataframe tbody tr th:only-of-type {\n",
              "        vertical-align: middle;\n",
              "    }\n",
              "\n",
              "    .dataframe tbody tr th {\n",
              "        vertical-align: top;\n",
              "    }\n",
              "\n",
              "    .dataframe thead th {\n",
              "        text-align: right;\n",
              "    }\n",
              "</style>\n",
              "<table border=\"1\" class=\"dataframe\">\n",
              "  <thead>\n",
              "    <tr style=\"text-align: right;\">\n",
              "      <th></th>\n",
              "      <th>movieId</th>\n",
              "      <th>title</th>\n",
              "      <th>genres</th>\n",
              "      <th>userId</th>\n",
              "      <th>rating</th>\n",
              "      <th>timestamp</th>\n",
              "    </tr>\n",
              "  </thead>\n",
              "  <tbody>\n",
              "    <tr>\n",
              "      <th>39202</th>\n",
              "      <td>2078</td>\n",
              "      <td>Jungle Book, The (1967)</td>\n",
              "      <td>Animation|Children|Comedy|Musical</td>\n",
              "      <td>45</td>\n",
              "      <td>5.0</td>\n",
              "      <td>950726248</td>\n",
              "    </tr>\n",
              "    <tr>\n",
              "      <th>46609</th>\n",
              "      <td>2694</td>\n",
              "      <td>Big Daddy (1999)</td>\n",
              "      <td>Comedy</td>\n",
              "      <td>45</td>\n",
              "      <td>5.0</td>\n",
              "      <td>951170525</td>\n",
              "    </tr>\n",
              "    <tr>\n",
              "      <th>46142</th>\n",
              "      <td>2657</td>\n",
              "      <td>Rocky Horror Picture Show, The (1975)</td>\n",
              "      <td>Comedy|Horror|Musical|Sci-Fi</td>\n",
              "      <td>45</td>\n",
              "      <td>5.0</td>\n",
              "      <td>950741248</td>\n",
              "    </tr>\n",
              "    <tr>\n",
              "      <th>55533</th>\n",
              "      <td>3578</td>\n",
              "      <td>Gladiator (2000)</td>\n",
              "      <td>Action|Adventure|Drama</td>\n",
              "      <td>45</td>\n",
              "      <td>5.0</td>\n",
              "      <td>1020803425</td>\n",
              "    </tr>\n",
              "    <tr>\n",
              "      <th>33101</th>\n",
              "      <td>1584</td>\n",
              "      <td>Contact (1997)</td>\n",
              "      <td>Drama|Sci-Fi</td>\n",
              "      <td>45</td>\n",
              "      <td>5.0</td>\n",
              "      <td>950740871</td>\n",
              "    </tr>\n",
              "    <tr>\n",
              "      <th>56625</th>\n",
              "      <td>3717</td>\n",
              "      <td>Gone in 60 Seconds (2000)</td>\n",
              "      <td>Action|Crime</td>\n",
              "      <td>45</td>\n",
              "      <td>5.0</td>\n",
              "      <td>1007994717</td>\n",
              "    </tr>\n",
              "    <tr>\n",
              "      <th>45369</th>\n",
              "      <td>2580</td>\n",
              "      <td>Go (1999)</td>\n",
              "      <td>Comedy|Crime</td>\n",
              "      <td>45</td>\n",
              "      <td>5.0</td>\n",
              "      <td>951756858</td>\n",
              "    </tr>\n",
              "    <tr>\n",
              "      <th>56996</th>\n",
              "      <td>3753</td>\n",
              "      <td>Patriot, The (2000)</td>\n",
              "      <td>Action|Drama|War</td>\n",
              "      <td>45</td>\n",
              "      <td>5.0</td>\n",
              "      <td>1007995101</td>\n",
              "    </tr>\n",
              "    <tr>\n",
              "      <th>57287</th>\n",
              "      <td>3793</td>\n",
              "      <td>X-Men (2000)</td>\n",
              "      <td>Action|Adventure|Sci-Fi</td>\n",
              "      <td>45</td>\n",
              "      <td>5.0</td>\n",
              "      <td>1007995171</td>\n",
              "    </tr>\n",
              "    <tr>\n",
              "      <th>57418</th>\n",
              "      <td>3798</td>\n",
              "      <td>What Lies Beneath (2000)</td>\n",
              "      <td>Drama|Horror|Mystery</td>\n",
              "      <td>45</td>\n",
              "      <td>5.0</td>\n",
              "      <td>1007995171</td>\n",
              "    </tr>\n",
              "  </tbody>\n",
              "</table>\n",
              "</div>"
            ],
            "text/plain": [
              "       movieId                                  title  ... rating   timestamp\n",
              "39202     2078                Jungle Book, The (1967)  ...    5.0   950726248\n",
              "46609     2694                       Big Daddy (1999)  ...    5.0   951170525\n",
              "46142     2657  Rocky Horror Picture Show, The (1975)  ...    5.0   950741248\n",
              "55533     3578                       Gladiator (2000)  ...    5.0  1020803425\n",
              "33101     1584                         Contact (1997)  ...    5.0   950740871\n",
              "56625     3717              Gone in 60 Seconds (2000)  ...    5.0  1007994717\n",
              "45369     2580                              Go (1999)  ...    5.0   951756858\n",
              "56996     3753                    Patriot, The (2000)  ...    5.0  1007995101\n",
              "57287     3793                           X-Men (2000)  ...    5.0  1007995171\n",
              "57418     3798               What Lies Beneath (2000)  ...    5.0  1007995171\n",
              "\n",
              "[10 rows x 6 columns]"
            ]
          },
          "metadata": {
            "tags": []
          },
          "execution_count": 17
        }
      ]
    },
    {
      "cell_type": "markdown",
      "metadata": {
        "id": "lfsqp9f3QcXi",
        "colab_type": "text"
      },
      "source": [
        "Let's look at the least preferred items."
      ]
    },
    {
      "cell_type": "code",
      "metadata": {
        "id": "bkHatTbO19dL",
        "colab_type": "code",
        "outputId": "09a3fda4-1456-460c-d827-074f81b8094e",
        "colab": {
          "base_uri": "https://localhost:8080/"
        }
      },
      "source": [
        "df_join[df_join['userId'] == user_id].sort_values(by=['rating']).head(10)"
      ],
      "execution_count": 0,
      "outputs": [
        {
          "output_type": "execute_result",
          "data": {
            "text/html": [
              "<div>\n",
              "<style scoped>\n",
              "    .dataframe tbody tr th:only-of-type {\n",
              "        vertical-align: middle;\n",
              "    }\n",
              "\n",
              "    .dataframe tbody tr th {\n",
              "        vertical-align: top;\n",
              "    }\n",
              "\n",
              "    .dataframe thead th {\n",
              "        text-align: right;\n",
              "    }\n",
              "</style>\n",
              "<table border=\"1\" class=\"dataframe\">\n",
              "  <thead>\n",
              "    <tr style=\"text-align: right;\">\n",
              "      <th></th>\n",
              "      <th>movieId</th>\n",
              "      <th>title</th>\n",
              "      <th>genres</th>\n",
              "      <th>userId</th>\n",
              "      <th>rating</th>\n",
              "      <th>timestamp</th>\n",
              "    </tr>\n",
              "  </thead>\n",
              "  <tbody>\n",
              "    <tr>\n",
              "      <th>53154</th>\n",
              "      <td>3270</td>\n",
              "      <td>Cutting Edge, The (1992)</td>\n",
              "      <td>Comedy|Drama|Romance</td>\n",
              "      <td>45</td>\n",
              "      <td>1.0</td>\n",
              "      <td>950718581</td>\n",
              "    </tr>\n",
              "    <tr>\n",
              "      <th>5111</th>\n",
              "      <td>173</td>\n",
              "      <td>Judge Dredd (1995)</td>\n",
              "      <td>Action|Crime|Sci-Fi</td>\n",
              "      <td>45</td>\n",
              "      <td>1.0</td>\n",
              "      <td>950741335</td>\n",
              "    </tr>\n",
              "    <tr>\n",
              "      <th>44072</th>\n",
              "      <td>2470</td>\n",
              "      <td>Crocodile Dundee (1986)</td>\n",
              "      <td>Adventure|Comedy</td>\n",
              "      <td>45</td>\n",
              "      <td>1.0</td>\n",
              "      <td>950740565</td>\n",
              "    </tr>\n",
              "    <tr>\n",
              "      <th>67895</th>\n",
              "      <td>5585</td>\n",
              "      <td>Ernest Scared Stupid (1991)</td>\n",
              "      <td>Comedy</td>\n",
              "      <td>45</td>\n",
              "      <td>1.0</td>\n",
              "      <td>1034344038</td>\n",
              "    </tr>\n",
              "    <tr>\n",
              "      <th>62486</th>\n",
              "      <td>4502</td>\n",
              "      <td>Ernest Saves Christmas (1988)</td>\n",
              "      <td>Children|Comedy</td>\n",
              "      <td>45</td>\n",
              "      <td>1.0</td>\n",
              "      <td>1034344018</td>\n",
              "    </tr>\n",
              "    <tr>\n",
              "      <th>60222</th>\n",
              "      <td>4104</td>\n",
              "      <td>Ernest Goes to Camp (1987)</td>\n",
              "      <td>Comedy</td>\n",
              "      <td>45</td>\n",
              "      <td>1.0</td>\n",
              "      <td>1034344018</td>\n",
              "    </tr>\n",
              "    <tr>\n",
              "      <th>53115</th>\n",
              "      <td>3268</td>\n",
              "      <td>Stop! Or My Mom Will Shoot (1992)</td>\n",
              "      <td>Action|Comedy</td>\n",
              "      <td>45</td>\n",
              "      <td>1.0</td>\n",
              "      <td>950740376</td>\n",
              "    </tr>\n",
              "    <tr>\n",
              "      <th>46306</th>\n",
              "      <td>2672</td>\n",
              "      <td>Thirteenth Floor, The (1999)</td>\n",
              "      <td>Drama|Sci-Fi|Thriller</td>\n",
              "      <td>45</td>\n",
              "      <td>1.0</td>\n",
              "      <td>950741061</td>\n",
              "    </tr>\n",
              "    <tr>\n",
              "      <th>54299</th>\n",
              "      <td>3439</td>\n",
              "      <td>Teenage Mutant Ninja Turtles II: The Secret of...</td>\n",
              "      <td>Action|Children|Fantasy</td>\n",
              "      <td>45</td>\n",
              "      <td>1.0</td>\n",
              "      <td>1034344018</td>\n",
              "    </tr>\n",
              "    <tr>\n",
              "      <th>15160</th>\n",
              "      <td>569</td>\n",
              "      <td>Little Big League (1994)</td>\n",
              "      <td>Comedy|Drama</td>\n",
              "      <td>45</td>\n",
              "      <td>2.0</td>\n",
              "      <td>950722240</td>\n",
              "    </tr>\n",
              "  </tbody>\n",
              "</table>\n",
              "</div>"
            ],
            "text/plain": [
              "       movieId  ...   timestamp\n",
              "53154     3270  ...   950718581\n",
              "5111       173  ...   950741335\n",
              "44072     2470  ...   950740565\n",
              "67895     5585  ...  1034344038\n",
              "62486     4502  ...  1034344018\n",
              "60222     4104  ...  1034344018\n",
              "53115     3268  ...   950740376\n",
              "46306     2672  ...   950741061\n",
              "54299     3439  ...  1034344018\n",
              "15160      569  ...   950722240\n",
              "\n",
              "[10 rows x 6 columns]"
            ]
          },
          "metadata": {
            "tags": []
          },
          "execution_count": 18
        }
      ]
    },
    {
      "cell_type": "markdown",
      "metadata": {
        "id": "iGu6-AnIQgyy",
        "colab_type": "text"
      },
      "source": [
        "Let's now look at the most likely preferences of the selected user."
      ]
    },
    {
      "cell_type": "code",
      "metadata": {
        "id": "EX_poCW7WcZO",
        "colab_type": "code",
        "outputId": "d8e8cd67-3b00-4836-8a00-d87b349070a9",
        "colab": {
          "base_uri": "https://localhost:8080/"
        }
      },
      "source": [
        "predictions = np.zeros((n_movies, 1))\n",
        "movie_to_column_items = np.array(list(movie_to_column.items()))\n",
        "df_result = pd.DataFrame(columns=['UserID', 'MovieID', 'Movie', 'Genres', 'Prediction'])\n",
        "\n",
        "for i, movie in enumerate(movie_to_column_items):\n",
        "    predictions[i] = predict(user_id, movie[0])\n",
        "    \n",
        "indices = np.argsort(-predictions, axis=0)\n",
        "\n",
        "for j in range(10):\n",
        "    movie_id = int(movie_to_column_items[np.where(movie_to_column_items[:, 1] == indices[j])][0][0])\n",
        "    df_row = pd.DataFrame({\n",
        "        'UserID': user_id,\n",
        "        'MovieID': movie_id,\n",
        "        'Movie': df_movies[df_movies['movieId'] == movie_id].iloc[0]['title'],\n",
        "        'Genres': df_movies[df_movies['movieId'] == movie_id].iloc[0]['genres'],\n",
        "        'Prediction': predictions[indices[j]][0][0]\n",
        "    }, index=[j])\n",
        "    df_result = df_result.append(df_row, sort=False)\n",
        "    \n",
        "df_result"
      ],
      "execution_count": 0,
      "outputs": [
        {
          "output_type": "execute_result",
          "data": {
            "text/html": [
              "<div>\n",
              "<style scoped>\n",
              "    .dataframe tbody tr th:only-of-type {\n",
              "        vertical-align: middle;\n",
              "    }\n",
              "\n",
              "    .dataframe tbody tr th {\n",
              "        vertical-align: top;\n",
              "    }\n",
              "\n",
              "    .dataframe thead th {\n",
              "        text-align: right;\n",
              "    }\n",
              "</style>\n",
              "<table border=\"1\" class=\"dataframe\">\n",
              "  <thead>\n",
              "    <tr style=\"text-align: right;\">\n",
              "      <th></th>\n",
              "      <th>UserID</th>\n",
              "      <th>MovieID</th>\n",
              "      <th>Movie</th>\n",
              "      <th>Genres</th>\n",
              "      <th>Prediction</th>\n",
              "    </tr>\n",
              "  </thead>\n",
              "  <tbody>\n",
              "    <tr>\n",
              "      <th>0</th>\n",
              "      <td>45</td>\n",
              "      <td>417</td>\n",
              "      <td>Barcelona (1994)</td>\n",
              "      <td>Comedy|Romance</td>\n",
              "      <td>3.562902</td>\n",
              "    </tr>\n",
              "    <tr>\n",
              "      <th>1</th>\n",
              "      <td>45</td>\n",
              "      <td>27611</td>\n",
              "      <td>Battlestar Galactica (2003)</td>\n",
              "      <td>Drama|Sci-Fi|War</td>\n",
              "      <td>3.555125</td>\n",
              "    </tr>\n",
              "    <tr>\n",
              "      <th>2</th>\n",
              "      <td>45</td>\n",
              "      <td>3969</td>\n",
              "      <td>Pay It Forward (2000)</td>\n",
              "      <td>Drama</td>\n",
              "      <td>3.548344</td>\n",
              "    </tr>\n",
              "    <tr>\n",
              "      <th>3</th>\n",
              "      <td>45</td>\n",
              "      <td>104841</td>\n",
              "      <td>Gravity (2013)</td>\n",
              "      <td>Action|Sci-Fi|IMAX</td>\n",
              "      <td>3.546065</td>\n",
              "    </tr>\n",
              "    <tr>\n",
              "      <th>4</th>\n",
              "      <td>45</td>\n",
              "      <td>1754</td>\n",
              "      <td>Fallen (1998)</td>\n",
              "      <td>Crime|Drama|Fantasy|Thriller</td>\n",
              "      <td>3.542547</td>\n",
              "    </tr>\n",
              "    <tr>\n",
              "      <th>5</th>\n",
              "      <td>45</td>\n",
              "      <td>114180</td>\n",
              "      <td>Maze Runner, The (2014)</td>\n",
              "      <td>Action|Mystery|Sci-Fi</td>\n",
              "      <td>3.541998</td>\n",
              "    </tr>\n",
              "    <tr>\n",
              "      <th>6</th>\n",
              "      <td>45</td>\n",
              "      <td>5785</td>\n",
              "      <td>Jackass: The Movie (2002)</td>\n",
              "      <td>Action|Comedy|Documentary</td>\n",
              "      <td>3.526598</td>\n",
              "    </tr>\n",
              "    <tr>\n",
              "      <th>7</th>\n",
              "      <td>45</td>\n",
              "      <td>1755</td>\n",
              "      <td>Shooting Fish (1997)</td>\n",
              "      <td>Comedy|Romance</td>\n",
              "      <td>3.515884</td>\n",
              "    </tr>\n",
              "    <tr>\n",
              "      <th>8</th>\n",
              "      <td>45</td>\n",
              "      <td>1711</td>\n",
              "      <td>Midnight in the Garden of Good and Evil (1997)</td>\n",
              "      <td>Crime|Drama|Mystery</td>\n",
              "      <td>3.500507</td>\n",
              "    </tr>\n",
              "    <tr>\n",
              "      <th>9</th>\n",
              "      <td>45</td>\n",
              "      <td>177765</td>\n",
              "      <td>Coco (2017)</td>\n",
              "      <td>Adventure|Animation|Children</td>\n",
              "      <td>3.495129</td>\n",
              "    </tr>\n",
              "  </tbody>\n",
              "</table>\n",
              "</div>"
            ],
            "text/plain": [
              "  UserID MovieID  ...                        Genres Prediction\n",
              "0     45     417  ...                Comedy|Romance   3.562902\n",
              "1     45   27611  ...              Drama|Sci-Fi|War   3.555125\n",
              "2     45    3969  ...                         Drama   3.548344\n",
              "3     45  104841  ...            Action|Sci-Fi|IMAX   3.546065\n",
              "4     45    1754  ...  Crime|Drama|Fantasy|Thriller   3.542547\n",
              "5     45  114180  ...         Action|Mystery|Sci-Fi   3.541998\n",
              "6     45    5785  ...     Action|Comedy|Documentary   3.526598\n",
              "7     45    1755  ...                Comedy|Romance   3.515884\n",
              "8     45    1711  ...           Crime|Drama|Mystery   3.500507\n",
              "9     45  177765  ...  Adventure|Animation|Children   3.495129\n",
              "\n",
              "[10 rows x 5 columns]"
            ]
          },
          "metadata": {
            "tags": []
          },
          "execution_count": 19
        }
      ]
    },
    {
      "cell_type": "markdown",
      "metadata": {
        "id": "S2xU-gjQQrwZ",
        "colab_type": "text"
      },
      "source": [
        "Now the predictions for least preferred items."
      ]
    },
    {
      "cell_type": "code",
      "metadata": {
        "id": "d2nL5rsz2dR8",
        "colab_type": "code",
        "outputId": "3924eb3e-d164-48c7-9738-f2cff38bd4c1",
        "colab": {
          "base_uri": "https://localhost:8080/"
        }
      },
      "source": [
        "df_result = pd.DataFrame(columns=['UserID', 'MovieID', 'Movie', 'Genres', 'Prediction'])\n",
        "indices = np.argsort(predictions, axis=0)\n",
        "\n",
        "for j in range(10):\n",
        "    movie_id = int(movie_to_column_items[np.where(movie_to_column_items[:, 1] == indices[j])][0][0])\n",
        "    df_row = pd.DataFrame({\n",
        "        'UserID': user_id,\n",
        "        'MovieID': movie_id,\n",
        "        'Movie': df_movies[df_movies['movieId'] == movie_id].iloc[0]['title'],\n",
        "        'Genres': df_movies[df_movies['movieId'] == movie_id].iloc[0]['genres'],\n",
        "        'Prediction': predictions[indices[j]][0][0]\n",
        "    }, index=[j])\n",
        "    df_result = df_result.append(df_row, sort=False)\n",
        "    \n",
        "df_result"
      ],
      "execution_count": 0,
      "outputs": [
        {
          "output_type": "execute_result",
          "data": {
            "text/html": [
              "<div>\n",
              "<style scoped>\n",
              "    .dataframe tbody tr th:only-of-type {\n",
              "        vertical-align: middle;\n",
              "    }\n",
              "\n",
              "    .dataframe tbody tr th {\n",
              "        vertical-align: top;\n",
              "    }\n",
              "\n",
              "    .dataframe thead th {\n",
              "        text-align: right;\n",
              "    }\n",
              "</style>\n",
              "<table border=\"1\" class=\"dataframe\">\n",
              "  <thead>\n",
              "    <tr style=\"text-align: right;\">\n",
              "      <th></th>\n",
              "      <th>UserID</th>\n",
              "      <th>MovieID</th>\n",
              "      <th>Movie</th>\n",
              "      <th>Genres</th>\n",
              "      <th>Prediction</th>\n",
              "    </tr>\n",
              "  </thead>\n",
              "  <tbody>\n",
              "    <tr>\n",
              "      <th>0</th>\n",
              "      <td>45</td>\n",
              "      <td>2901</td>\n",
              "      <td>Phantasm (1979)</td>\n",
              "      <td>Horror|Sci-Fi</td>\n",
              "      <td>2.054488</td>\n",
              "    </tr>\n",
              "    <tr>\n",
              "      <th>1</th>\n",
              "      <td>45</td>\n",
              "      <td>3104</td>\n",
              "      <td>Midnight Run (1988)</td>\n",
              "      <td>Action|Comedy|Crime|Thriller</td>\n",
              "      <td>2.220623</td>\n",
              "    </tr>\n",
              "    <tr>\n",
              "      <th>2</th>\n",
              "      <td>45</td>\n",
              "      <td>26761</td>\n",
              "      <td>Prime Suspect 2 (1992)</td>\n",
              "      <td>Crime|Drama|Mystery|Romance|Thriller</td>\n",
              "      <td>2.227821</td>\n",
              "    </tr>\n",
              "    <tr>\n",
              "      <th>3</th>\n",
              "      <td>45</td>\n",
              "      <td>96518</td>\n",
              "      <td>Prime Suspect 6: The Last Witness (2003)</td>\n",
              "      <td>Drama|Thriller</td>\n",
              "      <td>2.227821</td>\n",
              "    </tr>\n",
              "    <tr>\n",
              "      <th>4</th>\n",
              "      <td>45</td>\n",
              "      <td>160422</td>\n",
              "      <td>The Wooden Horse (1950)</td>\n",
              "      <td>Drama|War</td>\n",
              "      <td>2.227821</td>\n",
              "    </tr>\n",
              "    <tr>\n",
              "      <th>5</th>\n",
              "      <td>45</td>\n",
              "      <td>121099</td>\n",
              "      <td>101 Dalmatians II: Patch's London Adventure (2...</td>\n",
              "      <td>Animation|Children</td>\n",
              "      <td>2.237293</td>\n",
              "    </tr>\n",
              "    <tr>\n",
              "      <th>6</th>\n",
              "      <td>45</td>\n",
              "      <td>165489</td>\n",
              "      <td>Ethel &amp; Ernest (2016)</td>\n",
              "      <td>(no genres listed)</td>\n",
              "      <td>2.237293</td>\n",
              "    </tr>\n",
              "    <tr>\n",
              "      <th>7</th>\n",
              "      <td>45</td>\n",
              "      <td>96520</td>\n",
              "      <td>Prime Suspect: The Lost Child (1995)</td>\n",
              "      <td>Drama|Mystery</td>\n",
              "      <td>2.246765</td>\n",
              "    </tr>\n",
              "    <tr>\n",
              "      <th>8</th>\n",
              "      <td>45</td>\n",
              "      <td>93740</td>\n",
              "      <td>Salmon Fishing in the Yemen (2011)</td>\n",
              "      <td>Comedy|Drama|Romance</td>\n",
              "      <td>2.256236</td>\n",
              "    </tr>\n",
              "    <tr>\n",
              "      <th>9</th>\n",
              "      <td>45</td>\n",
              "      <td>91414</td>\n",
              "      <td>Arthur Christmas (2011)</td>\n",
              "      <td>Animation|Children|Comedy|Drama</td>\n",
              "      <td>2.275180</td>\n",
              "    </tr>\n",
              "  </tbody>\n",
              "</table>\n",
              "</div>"
            ],
            "text/plain": [
              "  UserID MovieID  ...                                Genres Prediction\n",
              "0     45    2901  ...                         Horror|Sci-Fi   2.054488\n",
              "1     45    3104  ...          Action|Comedy|Crime|Thriller   2.220623\n",
              "2     45   26761  ...  Crime|Drama|Mystery|Romance|Thriller   2.227821\n",
              "3     45   96518  ...                        Drama|Thriller   2.227821\n",
              "4     45  160422  ...                             Drama|War   2.227821\n",
              "5     45  121099  ...                    Animation|Children   2.237293\n",
              "6     45  165489  ...                    (no genres listed)   2.237293\n",
              "7     45   96520  ...                         Drama|Mystery   2.246765\n",
              "8     45   93740  ...                  Comedy|Drama|Romance   2.256236\n",
              "9     45   91414  ...       Animation|Children|Comedy|Drama   2.275180\n",
              "\n",
              "[10 rows x 5 columns]"
            ]
          },
          "metadata": {
            "tags": []
          },
          "execution_count": 20
        }
      ]
    },
    {
      "cell_type": "markdown",
      "metadata": {
        "id": "ORbaz1CIOWIJ",
        "colab_type": "text"
      },
      "source": [
        "I hope you enjoyed this exercise. Something you can also try on your own is to implement gradient descent instead of MAP-estimation like I did here. Let me know about any comments you may have."
      ]
    }
  ]
}